{
 "cells": [
  {
   "cell_type": "markdown",
   "metadata": {},
   "source": [
    "# Extracting date related featuers "
   ]
  },
  {
   "cell_type": "code",
   "execution_count": 1,
   "metadata": {},
   "outputs": [],
   "source": [
    "import numpy as np\n",
    "import pandas as pd\n",
    "import matplotlib.pyplot as plt"
   ]
  },
  {
   "cell_type": "code",
   "execution_count": 2,
   "metadata": {},
   "outputs": [
    {
     "name": "stdout",
     "output_type": "stream",
     "text": [
      "(1067371, 8)\n"
     ]
    },
    {
     "data": {
      "text/html": [
       "<div>\n",
       "<style scoped>\n",
       "    .dataframe tbody tr th:only-of-type {\n",
       "        vertical-align: middle;\n",
       "    }\n",
       "\n",
       "    .dataframe tbody tr th {\n",
       "        vertical-align: top;\n",
       "    }\n",
       "\n",
       "    .dataframe thead th {\n",
       "        text-align: right;\n",
       "    }\n",
       "</style>\n",
       "<table border=\"1\" class=\"dataframe\">\n",
       "  <thead>\n",
       "    <tr style=\"text-align: right;\">\n",
       "      <th></th>\n",
       "      <th>Invoice</th>\n",
       "      <th>StockCode</th>\n",
       "      <th>Description</th>\n",
       "      <th>Quantity</th>\n",
       "      <th>InvoiceDate</th>\n",
       "      <th>Price</th>\n",
       "      <th>Customer ID</th>\n",
       "      <th>Country</th>\n",
       "    </tr>\n",
       "  </thead>\n",
       "  <tbody>\n",
       "    <tr>\n",
       "      <th>0</th>\n",
       "      <td>489434</td>\n",
       "      <td>85048</td>\n",
       "      <td>15CM CHRISTMAS GLASS BALL 20 LIGHTS</td>\n",
       "      <td>12</td>\n",
       "      <td>2009-12-01 07:45:00</td>\n",
       "      <td>6.95</td>\n",
       "      <td>13085.0</td>\n",
       "      <td>United Kingdom</td>\n",
       "    </tr>\n",
       "    <tr>\n",
       "      <th>1</th>\n",
       "      <td>489434</td>\n",
       "      <td>79323P</td>\n",
       "      <td>PINK CHERRY LIGHTS</td>\n",
       "      <td>12</td>\n",
       "      <td>2009-12-01 07:45:00</td>\n",
       "      <td>6.75</td>\n",
       "      <td>13085.0</td>\n",
       "      <td>United Kingdom</td>\n",
       "    </tr>\n",
       "    <tr>\n",
       "      <th>2</th>\n",
       "      <td>489434</td>\n",
       "      <td>79323W</td>\n",
       "      <td>WHITE CHERRY LIGHTS</td>\n",
       "      <td>12</td>\n",
       "      <td>2009-12-01 07:45:00</td>\n",
       "      <td>6.75</td>\n",
       "      <td>13085.0</td>\n",
       "      <td>United Kingdom</td>\n",
       "    </tr>\n",
       "    <tr>\n",
       "      <th>3</th>\n",
       "      <td>489434</td>\n",
       "      <td>22041</td>\n",
       "      <td>RECORD FRAME 7\" SINGLE SIZE</td>\n",
       "      <td>48</td>\n",
       "      <td>2009-12-01 07:45:00</td>\n",
       "      <td>2.10</td>\n",
       "      <td>13085.0</td>\n",
       "      <td>United Kingdom</td>\n",
       "    </tr>\n",
       "    <tr>\n",
       "      <th>4</th>\n",
       "      <td>489434</td>\n",
       "      <td>21232</td>\n",
       "      <td>STRAWBERRY CERAMIC TRINKET BOX</td>\n",
       "      <td>24</td>\n",
       "      <td>2009-12-01 07:45:00</td>\n",
       "      <td>1.25</td>\n",
       "      <td>13085.0</td>\n",
       "      <td>United Kingdom</td>\n",
       "    </tr>\n",
       "  </tbody>\n",
       "</table>\n",
       "</div>"
      ],
      "text/plain": [
       "  Invoice StockCode                          Description  Quantity  \\\n",
       "0  489434     85048  15CM CHRISTMAS GLASS BALL 20 LIGHTS        12   \n",
       "1  489434    79323P                   PINK CHERRY LIGHTS        12   \n",
       "2  489434    79323W                  WHITE CHERRY LIGHTS        12   \n",
       "3  489434     22041         RECORD FRAME 7\" SINGLE SIZE         48   \n",
       "4  489434     21232       STRAWBERRY CERAMIC TRINKET BOX        24   \n",
       "\n",
       "          InvoiceDate  Price  Customer ID         Country  \n",
       "0 2009-12-01 07:45:00   6.95      13085.0  United Kingdom  \n",
       "1 2009-12-01 07:45:00   6.75      13085.0  United Kingdom  \n",
       "2 2009-12-01 07:45:00   6.75      13085.0  United Kingdom  \n",
       "3 2009-12-01 07:45:00   2.10      13085.0  United Kingdom  \n",
       "4 2009-12-01 07:45:00   1.25      13085.0  United Kingdom  "
      ]
     },
     "execution_count": 2,
     "metadata": {},
     "output_type": "execute_result"
    }
   ],
   "source": [
    "file = \"../Datasets/online_retail_II.xlsx\"\n",
    "\n",
    "# The data is provided as two sheets in a single Excel file.\n",
    "# Each sheet contains a different time period.\n",
    "# Load both and join them into a single dataframe\n",
    "# as shown below:\n",
    "\n",
    "df_1 = pd.read_excel(file, sheet_name=\"Year 2009-2010\")\n",
    "df_2 = pd.read_excel(file, sheet_name=\"Year 2010-2011\")\n",
    "\n",
    "data = pd.concat([df_1, df_2])\n",
    "\n",
    "print(data.shape)\n",
    "\n",
    "data.head()"
   ]
  },
  {
   "cell_type": "code",
   "execution_count": 3,
   "metadata": {},
   "outputs": [
    {
     "data": {
      "text/plain": [
       "dtype('<M8[ns]')"
      ]
     },
     "execution_count": 3,
     "metadata": {},
     "output_type": "execute_result"
    }
   ],
   "source": [
    "data[\"InvoiceDate\"].dtypes"
   ]
  },
  {
   "cell_type": "code",
   "execution_count": 4,
   "metadata": {},
   "outputs": [
    {
     "data": {
      "text/html": [
       "<div>\n",
       "<style scoped>\n",
       "    .dataframe tbody tr th:only-of-type {\n",
       "        vertical-align: middle;\n",
       "    }\n",
       "\n",
       "    .dataframe tbody tr th {\n",
       "        vertical-align: top;\n",
       "    }\n",
       "\n",
       "    .dataframe thead th {\n",
       "        text-align: right;\n",
       "    }\n",
       "</style>\n",
       "<table border=\"1\" class=\"dataframe\">\n",
       "  <thead>\n",
       "    <tr style=\"text-align: right;\">\n",
       "      <th></th>\n",
       "      <th>date</th>\n",
       "      <th>InvoiceDate</th>\n",
       "    </tr>\n",
       "  </thead>\n",
       "  <tbody>\n",
       "    <tr>\n",
       "      <th>0</th>\n",
       "      <td>2009-12-01 07:45:00</td>\n",
       "      <td>2009-12-01 07:45:00</td>\n",
       "    </tr>\n",
       "    <tr>\n",
       "      <th>1</th>\n",
       "      <td>2009-12-01 07:45:00</td>\n",
       "      <td>2009-12-01 07:45:00</td>\n",
       "    </tr>\n",
       "    <tr>\n",
       "      <th>2</th>\n",
       "      <td>2009-12-01 07:45:00</td>\n",
       "      <td>2009-12-01 07:45:00</td>\n",
       "    </tr>\n",
       "    <tr>\n",
       "      <th>3</th>\n",
       "      <td>2009-12-01 07:45:00</td>\n",
       "      <td>2009-12-01 07:45:00</td>\n",
       "    </tr>\n",
       "    <tr>\n",
       "      <th>4</th>\n",
       "      <td>2009-12-01 07:45:00</td>\n",
       "      <td>2009-12-01 07:45:00</td>\n",
       "    </tr>\n",
       "  </tbody>\n",
       "</table>\n",
       "</div>"
      ],
      "text/plain": [
       "                 date         InvoiceDate\n",
       "0 2009-12-01 07:45:00 2009-12-01 07:45:00\n",
       "1 2009-12-01 07:45:00 2009-12-01 07:45:00\n",
       "2 2009-12-01 07:45:00 2009-12-01 07:45:00\n",
       "3 2009-12-01 07:45:00 2009-12-01 07:45:00\n",
       "4 2009-12-01 07:45:00 2009-12-01 07:45:00"
      ]
     },
     "execution_count": 4,
     "metadata": {},
     "output_type": "execute_result"
    }
   ],
   "source": [
    "data[\"date\"] = pd.to_datetime(data[\"InvoiceDate\"])\n",
    "\n",
    "data[[\"date\", \"InvoiceDate\"]].head()"
   ]
  },
  {
   "cell_type": "code",
   "execution_count": null,
   "metadata": {},
   "outputs": [],
   "source": [
    "data[\"date_part\"] = data[\"date\"].dt.date   ## Extract the date part.\n",
    "time_ = data[\"date\"].dt.time\n",
    "\n",
    "data[\"invoice_year\"] = data[\"date\"].dt.year  ##  Extract the year\n",
    "data[\"invoice_year\"].unique()  ## unique values in the year\n",
    "\n",
    "\n",
    "data[\"invoice_year_start\"] = data[\"date\"].dt.is_year_start  ## year start\n",
    "data[\"invoice_year_end\"] = data[\"date\"].dt.is_year_end  ## year end\n",
    "\n",
    "\n",
    "data[\"invoice_year_leap\"] = data[\"date\"].dt.is_leap_year  ## Leap year\n",
    "\n",
    "\n",
    "data[\"invoice_quarter\"] = data[\"date\"].dt.quarter  ## Extract quarter from date variable - takes values 1 to 4.\n",
    "\n",
    "data[\"invoice_month\"] = data[\"date\"].dt.month   ## Extract month - 1 to 12.\n",
    "data[\"invoice_month\"].unique()\n",
    "\n",
    "\n",
    "\n",
    "# Extract month start and end.\n",
    "data[\"invoice_month_start\"] = data[\"date\"].dt.is_month_start\n",
    "data[\"invoice_month_end\"] = data[\"date\"].dt.is_month_end\n",
    "\n",
    "\n",
    "\n",
    "# Extract week of the year - varies from 1 to 52.\n",
    "data[\"invoice_week\"] = data[\"date\"].dt.isocalendar().week\n",
    "\n",
    "\n",
    "\n",
    "# Day of the week - from 0 to 6.\n",
    "# It is assumed the week starts on Monday,\n",
    "# denoted by 0, and ends on Sunday, denoted by 6.\n",
    "data[\"invoice_dayofweek\"] = data[\"date\"].dt.dayofweek\n",
    "\n",
    "\n",
    "\n",
    "\n",
    "# Was the invoice issued on a weekend?\n",
    "data[\"is_weekend\"] = data[\"date\"].dt.dayofweek > 4\n",
    "\n",
    "\n",
    "\n",
    "\n",
    "# Day of the year - 1 to 365.\n",
    "# I can't imagine when this feature would be\n",
    "# useful. Maybe, if we had data for several years,\n",
    "# to identify some repetitive pattern.\n",
    "data[\"invoice_day_year\"] = data[\"date\"].dt.dayofyear"
   ]
  },
  {
   "cell_type": "markdown",
   "metadata": {},
   "source": [
    "# Extracting time related featuers "
   ]
  },
  {
   "cell_type": "code",
   "execution_count": null,
   "metadata": {},
   "outputs": [],
   "source": [
    "data[\"time_part\"] = data[\"date\"].dt.time\n",
    "data[\"hour\"] = data[\"date\"].dt.hour\n",
    "data[\"min\"] = data[\"date\"].dt.minute\n",
    "data[\"sec\"] = data[\"date\"].dt.second\n",
    "\n",
    "\n",
    "\n",
    "data[\"microsec\"] = data[\"date\"].dt.microsecond\n",
    "data[\"nanosec\"] = data[\"date\"].dt.nanosecond\n",
    "\n",
    "\n",
    "\n",
    "# Now, let's repeat what we did in the previous cell in 1 command.\n",
    "data[[\"h\", \"m\", \"s\"]] = pd.DataFrame(\n",
    "    [(x.hour, x.minute, x.second) for x in data[\"date\"]]\n",
    ")"
   ]
  },
  {
   "cell_type": "code",
   "execution_count": 6,
   "metadata": {},
   "outputs": [
    {
     "data": {
      "text/html": [
       "<div>\n",
       "<style scoped>\n",
       "    .dataframe tbody tr th:only-of-type {\n",
       "        vertical-align: middle;\n",
       "    }\n",
       "\n",
       "    .dataframe tbody tr th {\n",
       "        vertical-align: top;\n",
       "    }\n",
       "\n",
       "    .dataframe thead th {\n",
       "        text-align: right;\n",
       "    }\n",
       "</style>\n",
       "<table border=\"1\" class=\"dataframe\">\n",
       "  <thead>\n",
       "    <tr style=\"text-align: right;\">\n",
       "      <th></th>\n",
       "      <th>time</th>\n",
       "    </tr>\n",
       "  </thead>\n",
       "  <tbody>\n",
       "    <tr>\n",
       "      <th>0</th>\n",
       "      <td>2014-08-01 09:00:00+02:00</td>\n",
       "    </tr>\n",
       "    <tr>\n",
       "      <th>1</th>\n",
       "      <td>2014-08-01 10:00:00+02:00</td>\n",
       "    </tr>\n",
       "    <tr>\n",
       "      <th>2</th>\n",
       "      <td>2014-08-01 11:00:00+02:00</td>\n",
       "    </tr>\n",
       "    <tr>\n",
       "      <th>0</th>\n",
       "      <td>2014-08-01 09:00:00-05:00</td>\n",
       "    </tr>\n",
       "    <tr>\n",
       "      <th>1</th>\n",
       "      <td>2014-08-01 10:00:00-05:00</td>\n",
       "    </tr>\n",
       "    <tr>\n",
       "      <th>2</th>\n",
       "      <td>2014-08-01 11:00:00-05:00</td>\n",
       "    </tr>\n",
       "  </tbody>\n",
       "</table>\n",
       "</div>"
      ],
      "text/plain": [
       "                        time\n",
       "0  2014-08-01 09:00:00+02:00\n",
       "1  2014-08-01 10:00:00+02:00\n",
       "2  2014-08-01 11:00:00+02:00\n",
       "0  2014-08-01 09:00:00-05:00\n",
       "1  2014-08-01 10:00:00-05:00\n",
       "2  2014-08-01 11:00:00-05:00"
      ]
     },
     "execution_count": 6,
     "metadata": {},
     "output_type": "execute_result"
    }
   ],
   "source": [
    "###########   Working with different time zones ############# \n",
    "# First, let's create a toy dataframe with some timestamps in different time zones.\n",
    "\n",
    "df = pd.DataFrame()\n",
    "\n",
    "df[\"time\"] = pd.concat(\n",
    "    [\n",
    "        pd.Series(\n",
    "            pd.date_range(\n",
    "                start=\"2014-08-01 09:00\", freq=\"H\", periods=3, tz=\"Europe/Berlin\"\n",
    "            )\n",
    "        ),\n",
    "        pd.Series(\n",
    "            pd.date_range(\n",
    "                start=\"2014-08-01 09:00\", freq=\"H\", periods=3, tz=\"US/Central\"\n",
    "            )\n",
    "        ),\n",
    "    ],\n",
    "    axis=0,\n",
    ")\n",
    "\n",
    "df"
   ]
  },
  {
   "cell_type": "code",
   "execution_count": 7,
   "metadata": {},
   "outputs": [
    {
     "data": {
      "text/html": [
       "<div>\n",
       "<style scoped>\n",
       "    .dataframe tbody tr th:only-of-type {\n",
       "        vertical-align: middle;\n",
       "    }\n",
       "\n",
       "    .dataframe tbody tr th {\n",
       "        vertical-align: top;\n",
       "    }\n",
       "\n",
       "    .dataframe thead th {\n",
       "        text-align: right;\n",
       "    }\n",
       "</style>\n",
       "<table border=\"1\" class=\"dataframe\">\n",
       "  <thead>\n",
       "    <tr style=\"text-align: right;\">\n",
       "      <th></th>\n",
       "      <th>time</th>\n",
       "      <th>time_utc</th>\n",
       "      <th>time_london</th>\n",
       "    </tr>\n",
       "  </thead>\n",
       "  <tbody>\n",
       "    <tr>\n",
       "      <th>0</th>\n",
       "      <td>2014-08-01 09:00:00+02:00</td>\n",
       "      <td>2014-08-01 07:00:00+00:00</td>\n",
       "      <td>2014-08-01 08:00:00+01:00</td>\n",
       "    </tr>\n",
       "    <tr>\n",
       "      <th>1</th>\n",
       "      <td>2014-08-01 10:00:00+02:00</td>\n",
       "      <td>2014-08-01 08:00:00+00:00</td>\n",
       "      <td>2014-08-01 09:00:00+01:00</td>\n",
       "    </tr>\n",
       "    <tr>\n",
       "      <th>2</th>\n",
       "      <td>2014-08-01 11:00:00+02:00</td>\n",
       "      <td>2014-08-01 09:00:00+00:00</td>\n",
       "      <td>2014-08-01 10:00:00+01:00</td>\n",
       "    </tr>\n",
       "    <tr>\n",
       "      <th>0</th>\n",
       "      <td>2014-08-01 09:00:00-05:00</td>\n",
       "      <td>2014-08-01 14:00:00+00:00</td>\n",
       "      <td>2014-08-01 15:00:00+01:00</td>\n",
       "    </tr>\n",
       "    <tr>\n",
       "      <th>1</th>\n",
       "      <td>2014-08-01 10:00:00-05:00</td>\n",
       "      <td>2014-08-01 15:00:00+00:00</td>\n",
       "      <td>2014-08-01 16:00:00+01:00</td>\n",
       "    </tr>\n",
       "    <tr>\n",
       "      <th>2</th>\n",
       "      <td>2014-08-01 11:00:00-05:00</td>\n",
       "      <td>2014-08-01 16:00:00+00:00</td>\n",
       "      <td>2014-08-01 17:00:00+01:00</td>\n",
       "    </tr>\n",
       "  </tbody>\n",
       "</table>\n",
       "</div>"
      ],
      "text/plain": [
       "                        time                  time_utc  \\\n",
       "0  2014-08-01 09:00:00+02:00 2014-08-01 07:00:00+00:00   \n",
       "1  2014-08-01 10:00:00+02:00 2014-08-01 08:00:00+00:00   \n",
       "2  2014-08-01 11:00:00+02:00 2014-08-01 09:00:00+00:00   \n",
       "0  2014-08-01 09:00:00-05:00 2014-08-01 14:00:00+00:00   \n",
       "1  2014-08-01 10:00:00-05:00 2014-08-01 15:00:00+00:00   \n",
       "2  2014-08-01 11:00:00-05:00 2014-08-01 16:00:00+00:00   \n",
       "\n",
       "                time_london  \n",
       "0 2014-08-01 08:00:00+01:00  \n",
       "1 2014-08-01 09:00:00+01:00  \n",
       "2 2014-08-01 10:00:00+01:00  \n",
       "0 2014-08-01 15:00:00+01:00  \n",
       "1 2014-08-01 16:00:00+01:00  \n",
       "2 2014-08-01 17:00:00+01:00  "
      ]
     },
     "execution_count": 7,
     "metadata": {},
     "output_type": "execute_result"
    }
   ],
   "source": [
    "# We can see the different timezones indicated by the +2 and -5, with respect to the central meridian.\n",
    "\n",
    "# To work with different time zones, first we unify the\n",
    "# timezone to the central one by setting utc = True.\n",
    "\n",
    "df[\"time_utc\"] = pd.to_datetime(df[\"time\"], utc=True)\n",
    "\n",
    "# Next, we change all timestamps to the desired timezone,\n",
    "# e.g., Europe/London, as in this example.\n",
    "\n",
    "df[\"time_london\"] = df[\"time_utc\"].dt.tz_convert(\"Europe/London\")\n",
    "\n",
    "\n",
    "df"
   ]
  },
  {
   "cell_type": "code",
   "execution_count": null,
   "metadata": {},
   "outputs": [],
   "source": []
  },
  {
   "cell_type": "markdown",
   "metadata": {},
   "source": [
    "# Periodic Featuers "
   ]
  },
  {
   "cell_type": "code",
   "execution_count": 8,
   "metadata": {},
   "outputs": [
    {
     "data": {
      "text/html": [
       "<div>\n",
       "<style scoped>\n",
       "    .dataframe tbody tr th:only-of-type {\n",
       "        vertical-align: middle;\n",
       "    }\n",
       "\n",
       "    .dataframe tbody tr th {\n",
       "        vertical-align: top;\n",
       "    }\n",
       "\n",
       "    .dataframe thead th {\n",
       "        text-align: right;\n",
       "    }\n",
       "</style>\n",
       "<table border=\"1\" class=\"dataframe\">\n",
       "  <thead>\n",
       "    <tr style=\"text-align: right;\">\n",
       "      <th></th>\n",
       "      <th>hour</th>\n",
       "    </tr>\n",
       "  </thead>\n",
       "  <tbody>\n",
       "    <tr>\n",
       "      <th>0</th>\n",
       "      <td>0</td>\n",
       "    </tr>\n",
       "    <tr>\n",
       "      <th>1</th>\n",
       "      <td>1</td>\n",
       "    </tr>\n",
       "    <tr>\n",
       "      <th>2</th>\n",
       "      <td>2</td>\n",
       "    </tr>\n",
       "    <tr>\n",
       "      <th>3</th>\n",
       "      <td>3</td>\n",
       "    </tr>\n",
       "    <tr>\n",
       "      <th>4</th>\n",
       "      <td>4</td>\n",
       "    </tr>\n",
       "  </tbody>\n",
       "</table>\n",
       "</div>"
      ],
      "text/plain": [
       "   hour\n",
       "0     0\n",
       "1     1\n",
       "2     2\n",
       "3     3\n",
       "4     4"
      ]
     },
     "execution_count": 8,
     "metadata": {},
     "output_type": "execute_result"
    }
   ],
   "source": [
    "# Let's create a dataframe with the hour\n",
    "# from 0 to 23.\n",
    "\n",
    "df = pd.DataFrame([i for i in range(24)], columns=['hour'])\n",
    "df.head()"
   ]
  },
  {
   "cell_type": "code",
   "execution_count": 9,
   "metadata": {},
   "outputs": [
    {
     "data": {
      "text/html": [
       "<div>\n",
       "<style scoped>\n",
       "    .dataframe tbody tr th:only-of-type {\n",
       "        vertical-align: middle;\n",
       "    }\n",
       "\n",
       "    .dataframe tbody tr th {\n",
       "        vertical-align: top;\n",
       "    }\n",
       "\n",
       "    .dataframe thead th {\n",
       "        text-align: right;\n",
       "    }\n",
       "</style>\n",
       "<table border=\"1\" class=\"dataframe\">\n",
       "  <thead>\n",
       "    <tr style=\"text-align: right;\">\n",
       "      <th></th>\n",
       "      <th>hour</th>\n",
       "      <th>hour_sin</th>\n",
       "      <th>hour_cos</th>\n",
       "    </tr>\n",
       "  </thead>\n",
       "  <tbody>\n",
       "    <tr>\n",
       "      <th>0</th>\n",
       "      <td>0</td>\n",
       "      <td>0.000000</td>\n",
       "      <td>1.000000</td>\n",
       "    </tr>\n",
       "    <tr>\n",
       "      <th>1</th>\n",
       "      <td>1</td>\n",
       "      <td>0.269797</td>\n",
       "      <td>0.962917</td>\n",
       "    </tr>\n",
       "    <tr>\n",
       "      <th>2</th>\n",
       "      <td>2</td>\n",
       "      <td>0.519584</td>\n",
       "      <td>0.854419</td>\n",
       "    </tr>\n",
       "    <tr>\n",
       "      <th>3</th>\n",
       "      <td>3</td>\n",
       "      <td>0.730836</td>\n",
       "      <td>0.682553</td>\n",
       "    </tr>\n",
       "    <tr>\n",
       "      <th>4</th>\n",
       "      <td>4</td>\n",
       "      <td>0.887885</td>\n",
       "      <td>0.460065</td>\n",
       "    </tr>\n",
       "  </tbody>\n",
       "</table>\n",
       "</div>"
      ],
      "text/plain": [
       "   hour  hour_sin  hour_cos\n",
       "0     0  0.000000  1.000000\n",
       "1     1  0.269797  0.962917\n",
       "2     2  0.519584  0.854419\n",
       "3     3  0.730836  0.682553\n",
       "4     4  0.887885  0.460065"
      ]
     },
     "execution_count": 9,
     "metadata": {},
     "output_type": "execute_result"
    }
   ],
   "source": [
    "# We transform the features with the sine and cosine function.\n",
    "\n",
    "df[\"hour_sin\"] = np.sin(df[\"hour\"] / df[\"hour\"].max() * 2 * np.pi)\n",
    "\n",
    "df[\"hour_cos\"] = np.cos(df[\"hour\"] / df[\"hour\"].max() * 2 * np.pi)\n",
    "\n",
    "df.head()"
   ]
  },
  {
   "cell_type": "code",
   "execution_count": 10,
   "metadata": {},
   "outputs": [
    {
     "data": {
      "text/plain": [
       "<matplotlib.collections.LineCollection at 0x1b707089e90>"
      ]
     },
     "execution_count": 10,
     "metadata": {},
     "output_type": "execute_result"
    },
    {
     "data": {
      "image/png": "[encoded data removed]",
      "text/plain": [
       "<Figure size 640x480 with 1 Axes>"
      ]
     },
     "metadata": {},
     "output_type": "display_data"
    }
   ],
   "source": [
    "# Plot hour vs its trigonometric transformation.\n",
    "\n",
    "plt.scatter(df[\"hour\"], df[\"hour_sin\"])\n",
    "\n",
    "# Axis labels\n",
    "plt.ylabel('Sine of hour')\n",
    "plt.xlabel('Hour')\n",
    "plt.title('Sine transformation')\n",
    "\n",
    "plt.vlines(x=0, ymin=-1, ymax=0, color='g', linestyles='dashed')\n",
    "plt.vlines(x=22, ymin=-1, ymax=-0.25, color='g', linestyles='dashed')"
   ]
  },
  {
   "cell_type": "markdown",
   "metadata": {},
   "source": [
    "* After the transformation we see that the hours 0 and 22 are much closer in value.\n",
    "\n",
    "* But, we also observe that the different hours could take the same value after the transformation, see below:"
   ]
  },
  {
   "cell_type": "code",
   "execution_count": 11,
   "metadata": {},
   "outputs": [
    {
     "data": {
      "text/plain": [
       "<matplotlib.collections.LineCollection at 0x1b77b9f1690>"
      ]
     },
     "execution_count": 11,
     "metadata": {},
     "output_type": "execute_result"
    },
    {
     "data": {
      "image/png": "[encoded data removed]",
      "text/plain": [
       "<Figure size 640x480 with 1 Axes>"
      ]
     },
     "metadata": {},
     "output_type": "display_data"
    }
   ],
   "source": [
    "# Plot hour vs its trigonometric transformation.\n",
    "\n",
    "plt.scatter(df[\"hour\"], df[\"hour_sin\"])\n",
    "\n",
    "# Axis labels\n",
    "plt.ylabel('Sine of hour')\n",
    "plt.xlabel('Hour')\n",
    "plt.title('Sine transformation')\n",
    "\n",
    "plt.hlines(y=0, xmin=0, xmax=11.5, color='r', linestyles='dashed')\n",
    "\n",
    "plt.vlines(x=0, ymin=-1, ymax=0, color='g', linestyles='dashed')\n",
    "plt.vlines(x=11.5, ymin=-1, ymax=0, color='g', linestyles='dashed')"
   ]
  },
  {
   "cell_type": "markdown",
   "metadata": {},
   "source": [
    "* In the precedent plot, we see the the hours 0 and 11.5 take roughly the same value after the sin transformation.\n",
    "\n",
    "* The same is true for the cosine function, see below:"
   ]
  },
  {
   "cell_type": "code",
   "execution_count": 12,
   "metadata": {},
   "outputs": [
    {
     "data": {
      "text/plain": [
       "<matplotlib.collections.LineCollection at 0x1b77de28f10>"
      ]
     },
     "execution_count": 12,
     "metadata": {},
     "output_type": "execute_result"
    },
    {
     "data": {
      "image/png": "[encoded data removed]",
      "text/plain": [
       "<Figure size 640x480 with 1 Axes>"
      ]
     },
     "metadata": {},
     "output_type": "display_data"
    }
   ],
   "source": [
    "# Plot hour vs its trigonometric transformation.\n",
    "\n",
    "plt.scatter(df[\"hour\"], df[\"hour_cos\"])\n",
    "\n",
    "# Axis labels\n",
    "plt.ylabel('Cosine of hour')\n",
    "plt.xlabel('Hour')\n",
    "plt.title('Cosine transformation')\n",
    "\n",
    "plt.hlines(y=-0.09, xmin=5, xmax=18, color='r', linestyles='dashed')\n",
    "\n",
    "plt.vlines(x=6, ymin=-1, ymax=0, color='g', linestyles='dashed')\n",
    "plt.vlines(x=17, ymin=-1, ymax=0, color='g', linestyles='dashed')"
   ]
  },
  {
   "cell_type": "markdown",
   "metadata": {},
   "source": [
    "* In the former plot, we see that the hours 6 and 17 take roughly the same cosine value after the transformation.\n",
    "\n",
    "* How can we distinguish the hours 0 from 11.5 or 6 from 17?\n",
    "\n",
    "* We need to use the 2 transformations together to fully code the information of the hour. Adding the cosine function, which is out-of-phase with the sine function, breaks the symmetry and gives each hour a unique codification."
   ]
  },
  {
   "cell_type": "code",
   "execution_count": 13,
   "metadata": {},
   "outputs": [
    {
     "data": {
      "text/plain": [
       "<matplotlib.collections.LineCollection at 0x1b70069e3d0>"
      ]
     },
     "execution_count": 13,
     "metadata": {},
     "output_type": "execute_result"
    },
    {
     "data": {
      "image/png": "[encoded data removed]",
      "text/plain": [
       "<Figure size 640x480 with 1 Axes>"
      ]
     },
     "metadata": {},
     "output_type": "display_data"
    }
   ],
   "source": [
    "# Plot hour vs its trigonometric transformation.\n",
    "\n",
    "plt.scatter(df[\"hour\"], df[\"hour_sin\"])\n",
    "plt.scatter(df[\"hour\"], df[\"hour_cos\"])\n",
    "\n",
    "# Axis labels\n",
    "plt.ylabel('Sine and cosine of hour')\n",
    "plt.xlabel('Hour')\n",
    "plt.title('Sine and Cosine transformation')\n",
    "\n",
    "\n",
    "plt.hlines(y=0, xmin=0, xmax=11.5, color='r', linestyles='dashed')\n",
    "\n",
    "plt.vlines(x=0, ymin=-1, ymax=1, color='g', linestyles='dashed')\n",
    "plt.vlines(x=11.5, ymin=-1, ymax=1, color='g', linestyles='dashed')"
   ]
  },
  {
   "cell_type": "markdown",
   "metadata": {},
   "source": [
    "* With the values of sine 0 and cosine 1, we can unequivocally identify the hour 0. With the values of sine 0 and cosine -1 we can unequivocally identify the hour 11.5 and so on.\n",
    "\n",
    "* An intuitive way to show the new representation is to plot the sine vs the cosine transformation of the hour. It will show as a 24 hour clock, and now, the distance between two points corresponds to the difference in time as we would expect from a 24-hour cycle."
   ]
  },
  {
   "cell_type": "code",
   "execution_count": 14,
   "metadata": {},
   "outputs": [
    {
     "data": {
      "image/png": "[encoded data removed]",
      "text/plain": [
       "<Figure size 700x500 with 2 Axes>"
      ]
     },
     "metadata": {},
     "output_type": "display_data"
    }
   ],
   "source": [
    "fig, ax = plt.subplots(figsize=(7, 5))\n",
    "sp = ax.scatter(df[\"hour_sin\"], df[\"hour_cos\"], c=df[\"hour\"])\n",
    "ax.set(\n",
    "    xlabel=\"sin(hour)\",\n",
    "    ylabel=\"cos(hour)\",\n",
    ")\n",
    "_ = fig.colorbar(sp)"
   ]
  },
  {
   "cell_type": "code",
   "execution_count": 15,
   "metadata": {},
   "outputs": [],
   "source": [
    "# Now, we can go ahead and apply this transformation to some real data."
   ]
  },
  {
   "cell_type": "code",
   "execution_count": 16,
   "metadata": {},
   "outputs": [],
   "source": [
    "# to automate many of our engineering processes\n",
    "from feature_engine.creation import CyclicalFeatures\n",
    "from feature_engine.datetime import DatetimeFeatures\n",
    "\n",
    "from sklearn.pipeline import Pipeline"
   ]
  },
  {
   "cell_type": "code",
   "execution_count": 17,
   "metadata": {},
   "outputs": [],
   "source": [
    "# Function to load and prepare input data.\n",
    "\n",
    "def load_data():\n",
    "\n",
    "    # Data lives here.\n",
    "    filename = '../datasets/AirQualityUCI_ready.csv'\n",
    "\n",
    "    # Load data: only the time variable and CO\n",
    "    data = pd.read_csv(filename, usecols=['Date_Time', 'CO_sensor'])\n",
    "\n",
    "    # Cast date variable in datetime format.\n",
    "    data['Date_Time'] = pd.to_datetime(data['Date_Time'])\n",
    "\n",
    "    # Set the index to the timestamp.\n",
    "    data.index = data['Date_Time']\n",
    "\n",
    "    # Sanity: sort index.\n",
    "    data.sort_index(inplace=True)\n",
    "\n",
    "    # Reduce data span.\n",
    "    data = data[(\n",
    "        data['Date_Time'] >= '2004-04-01') &\n",
    "        (data['Date_Time'] <= '2005-04-30')\n",
    "    ]\n",
    "\n",
    "    # Remove outliers\n",
    "    data = data.loc[(data['CO_sensor'] > 0)]\n",
    "\n",
    "    return data"
   ]
  },
  {
   "cell_type": "code",
   "execution_count": 18,
   "metadata": {},
   "outputs": [
    {
     "ename": "ValueError",
     "evalue": "time data \"13/03/2004 00:00:00\" doesn't match format \"%m/%d/%Y %H:%M:%S\", at position 54. You might want to try:\n    - passing `format` if your strings have a consistent format;\n    - passing `format='ISO8601'` if your strings are all ISO8601 but not necessarily in exactly the same format;\n    - passing `format='mixed'`, and the format will be inferred for each element individually. You might want to use `dayfirst` alongside this.",
     "output_type": "error",
     "traceback": [
      "\u001b[1;31m---------------------------------------------------------------------------\u001b[0m",
      "\u001b[1;31mValueError\u001b[0m                                Traceback (most recent call last)",
      "Cell \u001b[1;32mIn[18], line 1\u001b[0m\n\u001b[1;32m----> 1\u001b[0m data \u001b[38;5;241m=\u001b[39m load_data()\n",
      "Cell \u001b[1;32mIn[17], line 12\u001b[0m, in \u001b[0;36mload_data\u001b[1;34m()\u001b[0m\n\u001b[0;32m      9\u001b[0m data \u001b[38;5;241m=\u001b[39m pd\u001b[38;5;241m.\u001b[39mread_csv(filename, usecols\u001b[38;5;241m=\u001b[39m[\u001b[38;5;124m'\u001b[39m\u001b[38;5;124mDate_Time\u001b[39m\u001b[38;5;124m'\u001b[39m, \u001b[38;5;124m'\u001b[39m\u001b[38;5;124mCO_sensor\u001b[39m\u001b[38;5;124m'\u001b[39m])\n\u001b[0;32m     11\u001b[0m \u001b[38;5;66;03m# Cast date variable in datetime format.\u001b[39;00m\n\u001b[1;32m---> 12\u001b[0m data[\u001b[38;5;124m'\u001b[39m\u001b[38;5;124mDate_Time\u001b[39m\u001b[38;5;124m'\u001b[39m] \u001b[38;5;241m=\u001b[39m pd\u001b[38;5;241m.\u001b[39mto_datetime(data[\u001b[38;5;124m'\u001b[39m\u001b[38;5;124mDate_Time\u001b[39m\u001b[38;5;124m'\u001b[39m])\n\u001b[0;32m     14\u001b[0m \u001b[38;5;66;03m# Set the index to the timestamp.\u001b[39;00m\n\u001b[0;32m     15\u001b[0m data\u001b[38;5;241m.\u001b[39mindex \u001b[38;5;241m=\u001b[39m data[\u001b[38;5;124m'\u001b[39m\u001b[38;5;124mDate_Time\u001b[39m\u001b[38;5;124m'\u001b[39m]\n",
      "File \u001b[1;32mc:\\Users\\Tharindu\\anaconda3\\Lib\\site-packages\\pandas\\core\\tools\\datetimes.py:1112\u001b[0m, in \u001b[0;36mto_datetime\u001b[1;34m(arg, errors, dayfirst, yearfirst, utc, format, exact, unit, infer_datetime_format, origin, cache)\u001b[0m\n\u001b[0;32m   1110\u001b[0m         result \u001b[38;5;241m=\u001b[39m arg\u001b[38;5;241m.\u001b[39mmap(cache_array)\n\u001b[0;32m   1111\u001b[0m     \u001b[38;5;28;01melse\u001b[39;00m:\n\u001b[1;32m-> 1112\u001b[0m         values \u001b[38;5;241m=\u001b[39m convert_listlike(arg\u001b[38;5;241m.\u001b[39m_values, \u001b[38;5;28mformat\u001b[39m)\n\u001b[0;32m   1113\u001b[0m         result \u001b[38;5;241m=\u001b[39m arg\u001b[38;5;241m.\u001b[39m_constructor(values, index\u001b[38;5;241m=\u001b[39marg\u001b[38;5;241m.\u001b[39mindex, name\u001b[38;5;241m=\u001b[39marg\u001b[38;5;241m.\u001b[39mname)\n\u001b[0;32m   1114\u001b[0m \u001b[38;5;28;01melif\u001b[39;00m \u001b[38;5;28misinstance\u001b[39m(arg, (ABCDataFrame, abc\u001b[38;5;241m.\u001b[39mMutableMapping)):\n",
      "File \u001b[1;32mc:\\Users\\Tharindu\\anaconda3\\Lib\\site-packages\\pandas\\core\\tools\\datetimes.py:488\u001b[0m, in \u001b[0;36m_convert_listlike_datetimes\u001b[1;34m(arg, format, name, utc, unit, errors, dayfirst, yearfirst, exact)\u001b[0m\n\u001b[0;32m    486\u001b[0m \u001b[38;5;66;03m# `format` could be inferred, or user didn't ask for mixed-format parsing.\u001b[39;00m\n\u001b[0;32m    487\u001b[0m \u001b[38;5;28;01mif\u001b[39;00m \u001b[38;5;28mformat\u001b[39m \u001b[38;5;129;01mis\u001b[39;00m \u001b[38;5;129;01mnot\u001b[39;00m \u001b[38;5;28;01mNone\u001b[39;00m \u001b[38;5;129;01mand\u001b[39;00m \u001b[38;5;28mformat\u001b[39m \u001b[38;5;241m!=\u001b[39m \u001b[38;5;124m\"\u001b[39m\u001b[38;5;124mmixed\u001b[39m\u001b[38;5;124m\"\u001b[39m:\n\u001b[1;32m--> 488\u001b[0m     \u001b[38;5;28;01mreturn\u001b[39;00m _array_strptime_with_fallback(arg, name, utc, \u001b[38;5;28mformat\u001b[39m, exact, errors)\n\u001b[0;32m    490\u001b[0m result, tz_parsed \u001b[38;5;241m=\u001b[39m objects_to_datetime64ns(\n\u001b[0;32m    491\u001b[0m     arg,\n\u001b[0;32m    492\u001b[0m     dayfirst\u001b[38;5;241m=\u001b[39mdayfirst,\n\u001b[1;32m   (...)\u001b[0m\n\u001b[0;32m    496\u001b[0m     allow_object\u001b[38;5;241m=\u001b[39m\u001b[38;5;28;01mTrue\u001b[39;00m,\n\u001b[0;32m    497\u001b[0m )\n\u001b[0;32m    499\u001b[0m \u001b[38;5;28;01mif\u001b[39;00m tz_parsed \u001b[38;5;129;01mis\u001b[39;00m \u001b[38;5;129;01mnot\u001b[39;00m \u001b[38;5;28;01mNone\u001b[39;00m:\n\u001b[0;32m    500\u001b[0m     \u001b[38;5;66;03m# We can take a shortcut since the datetime64 numpy array\u001b[39;00m\n\u001b[0;32m    501\u001b[0m     \u001b[38;5;66;03m# is in UTC\u001b[39;00m\n",
      "File \u001b[1;32mc:\\Users\\Tharindu\\anaconda3\\Lib\\site-packages\\pandas\\core\\tools\\datetimes.py:519\u001b[0m, in \u001b[0;36m_array_strptime_with_fallback\u001b[1;34m(arg, name, utc, fmt, exact, errors)\u001b[0m\n\u001b[0;32m    508\u001b[0m \u001b[38;5;28;01mdef\u001b[39;00m \u001b[38;5;21m_array_strptime_with_fallback\u001b[39m(\n\u001b[0;32m    509\u001b[0m     arg,\n\u001b[0;32m    510\u001b[0m     name,\n\u001b[1;32m   (...)\u001b[0m\n\u001b[0;32m    514\u001b[0m     errors: \u001b[38;5;28mstr\u001b[39m,\n\u001b[0;32m    515\u001b[0m ) \u001b[38;5;241m-\u001b[39m\u001b[38;5;241m>\u001b[39m Index:\n\u001b[0;32m    516\u001b[0m \u001b[38;5;250m    \u001b[39m\u001b[38;5;124;03m\"\"\"\u001b[39;00m\n\u001b[0;32m    517\u001b[0m \u001b[38;5;124;03m    Call array_strptime, with fallback behavior depending on 'errors'.\u001b[39;00m\n\u001b[0;32m    518\u001b[0m \u001b[38;5;124;03m    \"\"\"\u001b[39;00m\n\u001b[1;32m--> 519\u001b[0m     result, timezones \u001b[38;5;241m=\u001b[39m array_strptime(arg, fmt, exact\u001b[38;5;241m=\u001b[39mexact, errors\u001b[38;5;241m=\u001b[39merrors, utc\u001b[38;5;241m=\u001b[39mutc)\n\u001b[0;32m    520\u001b[0m     \u001b[38;5;28;01mif\u001b[39;00m \u001b[38;5;28many\u001b[39m(tz \u001b[38;5;129;01mis\u001b[39;00m \u001b[38;5;129;01mnot\u001b[39;00m \u001b[38;5;28;01mNone\u001b[39;00m \u001b[38;5;28;01mfor\u001b[39;00m tz \u001b[38;5;129;01min\u001b[39;00m timezones):\n\u001b[0;32m    521\u001b[0m         \u001b[38;5;28;01mreturn\u001b[39;00m _return_parsed_timezone_results(result, timezones, utc, name)\n",
      "File \u001b[1;32mstrptime.pyx:534\u001b[0m, in \u001b[0;36mpandas._libs.tslibs.strptime.array_strptime\u001b[1;34m()\u001b[0m\n",
      "File \u001b[1;32mstrptime.pyx:355\u001b[0m, in \u001b[0;36mpandas._libs.tslibs.strptime.array_strptime\u001b[1;34m()\u001b[0m\n",
      "\u001b[1;31mValueError\u001b[0m: time data \"13/03/2004 00:00:00\" doesn't match format \"%m/%d/%Y %H:%M:%S\", at position 54. You might want to try:\n    - passing `format` if your strings have a consistent format;\n    - passing `format='ISO8601'` if your strings are all ISO8601 but not necessarily in exactly the same format;\n    - passing `format='mixed'`, and the format will be inferred for each element individually. You might want to use `dayfirst` alongside this."
     ]
    }
   ],
   "source": [
    "data = load_data()\n"
   ]
  },
  {
   "cell_type": "code",
   "execution_count": null,
   "metadata": {},
   "outputs": [],
   "source": [
    "# Extract month and hour from timestamp\n",
    "\n",
    "dtf = DatetimeFeatures(\n",
    "    variables='Date_Time',  # the timestamp\n",
    "    features_to_extract=[\"year\", \"month\", \"hour\"],  # the features to create\n",
    "    drop_original=True  # if we want to drop the timestamp.\n",
    ")\n",
    "\n",
    "# Extract the datetime features\n",
    "data = dtf.fit_transform(data)\n",
    "\n",
    "# Show new variables\n",
    "data.head()"
   ]
  },
  {
   "cell_type": "code",
   "execution_count": null,
   "metadata": {},
   "outputs": [],
   "source": [
    "# Mean pollutant concentration per hour.\n",
    "\n",
    "data.groupby([\"Date_Time_hour\", \"Date_Time_month\"])[\"CO_sensor\"].mean().unstack().plot(figsize=(8,5))\n",
    "plt.ylabel(\"CO concentration\")\n",
    "plt.title(\"CO concentration in time\")"
   ]
  },
  {
   "cell_type": "code",
   "execution_count": null,
   "metadata": {},
   "outputs": [],
   "source": [
    "# Mean pollutant concentration per month.\n",
    "\n",
    "data.groupby([\"Date_Time_month\", \"Date_Time_year\"])[\"CO_sensor\"].mean().unstack().plot(figsize=(8,5))\n",
    "plt.ylabel(\"CO concentration\")\n",
    "plt.title(\"CO concentration in time\")"
   ]
  },
  {
   "cell_type": "code",
   "execution_count": null,
   "metadata": {},
   "outputs": [],
   "source": [
    "# Transform hour with sine.\n",
    "\n",
    "data[\"hour_sin\"] = np.sin(data[\"Date_Time_hour\"] /\n",
    "                          data[\"Date_Time_hour\"].max() * 2 * np.pi)\n",
    "\n",
    "# Plot.\n",
    "plt.scatter(data[\"Date_Time_hour\"], data['hour_sin'])\n",
    "\n",
    "# Axis labels\n",
    "plt.xlabel('Hour')\n",
    "plt.ylabel('Hour - Sine')\n",
    "plt.title('Sine transformation of hour')"
   ]
  },
  {
   "cell_type": "code",
   "execution_count": 19,
   "metadata": {},
   "outputs": [
    {
     "ename": "KeyError",
     "evalue": "'Date_Time_hour'",
     "output_type": "error",
     "traceback": [
      "\u001b[1;31m---------------------------------------------------------------------------\u001b[0m",
      "\u001b[1;31mKeyError\u001b[0m                                  Traceback (most recent call last)",
      "File \u001b[1;32mc:\\Users\\Tharindu\\anaconda3\\Lib\\site-packages\\pandas\\core\\indexes\\base.py:3791\u001b[0m, in \u001b[0;36mIndex.get_loc\u001b[1;34m(self, key)\u001b[0m\n\u001b[0;32m   3790\u001b[0m \u001b[38;5;28;01mtry\u001b[39;00m:\n\u001b[1;32m-> 3791\u001b[0m     \u001b[38;5;28;01mreturn\u001b[39;00m \u001b[38;5;28mself\u001b[39m\u001b[38;5;241m.\u001b[39m_engine\u001b[38;5;241m.\u001b[39mget_loc(casted_key)\n\u001b[0;32m   3792\u001b[0m \u001b[38;5;28;01mexcept\u001b[39;00m \u001b[38;5;167;01mKeyError\u001b[39;00m \u001b[38;5;28;01mas\u001b[39;00m err:\n",
      "File \u001b[1;32mindex.pyx:152\u001b[0m, in \u001b[0;36mpandas._libs.index.IndexEngine.get_loc\u001b[1;34m()\u001b[0m\n",
      "File \u001b[1;32mindex.pyx:181\u001b[0m, in \u001b[0;36mpandas._libs.index.IndexEngine.get_loc\u001b[1;34m()\u001b[0m\n",
      "File \u001b[1;32mpandas\\_libs\\hashtable_class_helper.pxi:7080\u001b[0m, in \u001b[0;36mpandas._libs.hashtable.PyObjectHashTable.get_item\u001b[1;34m()\u001b[0m\n",
      "File \u001b[1;32mpandas\\_libs\\hashtable_class_helper.pxi:7088\u001b[0m, in \u001b[0;36mpandas._libs.hashtable.PyObjectHashTable.get_item\u001b[1;34m()\u001b[0m\n",
      "\u001b[1;31mKeyError\u001b[0m: 'Date_Time_hour'",
      "\nThe above exception was the direct cause of the following exception:\n",
      "\u001b[1;31mKeyError\u001b[0m                                  Traceback (most recent call last)",
      "Cell \u001b[1;32mIn[19], line 2\u001b[0m\n\u001b[0;32m      1\u001b[0m \u001b[38;5;66;03m# Transform hour with cosine.\u001b[39;00m\n\u001b[1;32m----> 2\u001b[0m data[\u001b[38;5;124m\"\u001b[39m\u001b[38;5;124mhour_cos\u001b[39m\u001b[38;5;124m\"\u001b[39m] \u001b[38;5;241m=\u001b[39m np\u001b[38;5;241m.\u001b[39mcos(data[\u001b[38;5;124m\"\u001b[39m\u001b[38;5;124mDate_Time_hour\u001b[39m\u001b[38;5;124m\"\u001b[39m] \u001b[38;5;241m/\u001b[39m\n\u001b[0;32m      3\u001b[0m                           data[\u001b[38;5;124m\"\u001b[39m\u001b[38;5;124mDate_Time_hour\u001b[39m\u001b[38;5;124m\"\u001b[39m]\u001b[38;5;241m.\u001b[39mmax() \u001b[38;5;241m*\u001b[39m \u001b[38;5;241m2\u001b[39m \u001b[38;5;241m*\u001b[39m np\u001b[38;5;241m.\u001b[39mpi)\n\u001b[0;32m      5\u001b[0m \u001b[38;5;66;03m# Plot.\u001b[39;00m\n\u001b[0;32m      6\u001b[0m plt\u001b[38;5;241m.\u001b[39mscatter(data[\u001b[38;5;124m\"\u001b[39m\u001b[38;5;124mDate_Time_hour\u001b[39m\u001b[38;5;124m\"\u001b[39m], data[\u001b[38;5;124m'\u001b[39m\u001b[38;5;124mhour_cos\u001b[39m\u001b[38;5;124m'\u001b[39m])\n",
      "File \u001b[1;32mc:\\Users\\Tharindu\\anaconda3\\Lib\\site-packages\\pandas\\core\\frame.py:3893\u001b[0m, in \u001b[0;36mDataFrame.__getitem__\u001b[1;34m(self, key)\u001b[0m\n\u001b[0;32m   3891\u001b[0m \u001b[38;5;28;01mif\u001b[39;00m \u001b[38;5;28mself\u001b[39m\u001b[38;5;241m.\u001b[39mcolumns\u001b[38;5;241m.\u001b[39mnlevels \u001b[38;5;241m>\u001b[39m \u001b[38;5;241m1\u001b[39m:\n\u001b[0;32m   3892\u001b[0m     \u001b[38;5;28;01mreturn\u001b[39;00m \u001b[38;5;28mself\u001b[39m\u001b[38;5;241m.\u001b[39m_getitem_multilevel(key)\n\u001b[1;32m-> 3893\u001b[0m indexer \u001b[38;5;241m=\u001b[39m \u001b[38;5;28mself\u001b[39m\u001b[38;5;241m.\u001b[39mcolumns\u001b[38;5;241m.\u001b[39mget_loc(key)\n\u001b[0;32m   3894\u001b[0m \u001b[38;5;28;01mif\u001b[39;00m is_integer(indexer):\n\u001b[0;32m   3895\u001b[0m     indexer \u001b[38;5;241m=\u001b[39m [indexer]\n",
      "File \u001b[1;32mc:\\Users\\Tharindu\\anaconda3\\Lib\\site-packages\\pandas\\core\\indexes\\base.py:3798\u001b[0m, in \u001b[0;36mIndex.get_loc\u001b[1;34m(self, key)\u001b[0m\n\u001b[0;32m   3793\u001b[0m     \u001b[38;5;28;01mif\u001b[39;00m \u001b[38;5;28misinstance\u001b[39m(casted_key, \u001b[38;5;28mslice\u001b[39m) \u001b[38;5;129;01mor\u001b[39;00m (\n\u001b[0;32m   3794\u001b[0m         \u001b[38;5;28misinstance\u001b[39m(casted_key, abc\u001b[38;5;241m.\u001b[39mIterable)\n\u001b[0;32m   3795\u001b[0m         \u001b[38;5;129;01mand\u001b[39;00m \u001b[38;5;28many\u001b[39m(\u001b[38;5;28misinstance\u001b[39m(x, \u001b[38;5;28mslice\u001b[39m) \u001b[38;5;28;01mfor\u001b[39;00m x \u001b[38;5;129;01min\u001b[39;00m casted_key)\n\u001b[0;32m   3796\u001b[0m     ):\n\u001b[0;32m   3797\u001b[0m         \u001b[38;5;28;01mraise\u001b[39;00m InvalidIndexError(key)\n\u001b[1;32m-> 3798\u001b[0m     \u001b[38;5;28;01mraise\u001b[39;00m \u001b[38;5;167;01mKeyError\u001b[39;00m(key) \u001b[38;5;28;01mfrom\u001b[39;00m \u001b[38;5;21;01merr\u001b[39;00m\n\u001b[0;32m   3799\u001b[0m \u001b[38;5;28;01mexcept\u001b[39;00m \u001b[38;5;167;01mTypeError\u001b[39;00m:\n\u001b[0;32m   3800\u001b[0m     \u001b[38;5;66;03m# If we have a listlike key, _check_indexing_error will raise\u001b[39;00m\n\u001b[0;32m   3801\u001b[0m     \u001b[38;5;66;03m#  InvalidIndexError. Otherwise we fall through and re-raise\u001b[39;00m\n\u001b[0;32m   3802\u001b[0m     \u001b[38;5;66;03m#  the TypeError.\u001b[39;00m\n\u001b[0;32m   3803\u001b[0m     \u001b[38;5;28mself\u001b[39m\u001b[38;5;241m.\u001b[39m_check_indexing_error(key)\n",
      "\u001b[1;31mKeyError\u001b[0m: 'Date_Time_hour'"
     ]
    }
   ],
   "source": [
    "# Transform hour with cosine.\n",
    "data[\"hour_cos\"] = np.cos(data[\"Date_Time_hour\"] /\n",
    "                          data[\"Date_Time_hour\"].max() * 2 * np.pi)\n",
    "\n",
    "# Plot.\n",
    "plt.scatter(data[\"Date_Time_hour\"], data['hour_cos'])\n",
    "\n",
    "plt.xlabel('Hour')\n",
    "plt.ylabel('Hour - Cosine')\n",
    "plt.title('Cosine transformation of hour')"
   ]
  },
  {
   "cell_type": "code",
   "execution_count": null,
   "metadata": {},
   "outputs": [],
   "source": [
    "# Transform month with sine.\n",
    "data[\"month_sin\"] = np.sin(data[\"Date_Time_month\"] /\n",
    "                          data[\"Date_Time_month\"].max() * 2 * np.pi)\n",
    "\n",
    "# Plot.\n",
    "plt.scatter(data[\"Date_Time_month\"], data['month_sin'])\n",
    "\n",
    "# Axis labels\n",
    "plt.xlabel('Month')\n",
    "plt.ylabel('Month - Sine')\n",
    "plt.title('Sine transformation of Month')"
   ]
  },
  {
   "cell_type": "code",
   "execution_count": null,
   "metadata": {},
   "outputs": [],
   "source": [
    "# Transform month with cosine.\n",
    "data[\"month_cos\"] = np.cos(data[\"Date_Time_month\"] /\n",
    "                          data[\"Date_Time_month\"].max() * 2 * np.pi)\n",
    "\n",
    "# Plot.\n",
    "plt.scatter(data[\"Date_Time_month\"], data['month_cos'])\n",
    "\n",
    "# Axis labels\n",
    "plt.xlabel('Month')\n",
    "plt.ylabel('Month - Cosine')\n",
    "plt.title('Cosine transformation of Month')"
   ]
  },
  {
   "cell_type": "code",
   "execution_count": null,
   "metadata": {},
   "outputs": [],
   "source": []
  },
  {
   "cell_type": "markdown",
   "metadata": {},
   "source": [
    "### Automate with Feature-engine\n",
    "* We can extract all the features that we created manually with pandas, automatically, using Feature-engine.\n",
    "\n",
    "* In particular, for periodic features we can use the CyclicalFeatures."
   ]
  },
  {
   "cell_type": "code",
   "execution_count": 20,
   "metadata": {},
   "outputs": [],
   "source": [
    "pipe = Pipeline([\n",
    "    \n",
    "    # create datetime features.\n",
    "    ('datetime', DatetimeFeatures(\n",
    "        variables=\"Date_Time\",\n",
    "        features_to_extract=[\"month\", \"hour\"],\n",
    "        drop_original=True,\n",
    "    )),\n",
    "\n",
    "    # apply sine and cosine transformation.\n",
    "    ('cyclical', CyclicalFeatures(\n",
    "        variables=[\"Date_Time_month\", \"Date_Time_hour\"],\n",
    "    )),\n",
    "])"
   ]
  },
  {
   "cell_type": "code",
   "execution_count": null,
   "metadata": {},
   "outputs": [],
   "source": [
    "data = pipe.fit_transform(data)\n",
    "\n",
    "data.head()"
   ]
  },
  {
   "cell_type": "code",
   "execution_count": null,
   "metadata": {},
   "outputs": [],
   "source": []
  },
  {
   "cell_type": "code",
   "execution_count": null,
   "metadata": {},
   "outputs": [],
   "source": []
  },
  {
   "cell_type": "markdown",
   "metadata": {},
   "source": [
    "# Highlighting Holidays "
   ]
  },
  {
   "cell_type": "code",
   "execution_count": 22,
   "metadata": {},
   "outputs": [
    {
     "data": {
      "text/html": [
       "<div>\n",
       "<style scoped>\n",
       "    .dataframe tbody tr th:only-of-type {\n",
       "        vertical-align: middle;\n",
       "    }\n",
       "\n",
       "    .dataframe tbody tr th {\n",
       "        vertical-align: top;\n",
       "    }\n",
       "\n",
       "    .dataframe thead th {\n",
       "        text-align: right;\n",
       "    }\n",
       "</style>\n",
       "<table border=\"1\" class=\"dataframe\">\n",
       "  <thead>\n",
       "    <tr style=\"text-align: right;\">\n",
       "      <th></th>\n",
       "      <th>quantity</th>\n",
       "      <th>revenue</th>\n",
       "    </tr>\n",
       "    <tr>\n",
       "      <th>invoice_date</th>\n",
       "      <th></th>\n",
       "      <th></th>\n",
       "    </tr>\n",
       "  </thead>\n",
       "  <tbody>\n",
       "    <tr>\n",
       "      <th>2009-12-01</th>\n",
       "      <td>21050</td>\n",
       "      <td>37366.32</td>\n",
       "    </tr>\n",
       "    <tr>\n",
       "      <th>2009-12-02</th>\n",
       "      <td>25248</td>\n",
       "      <td>45644.67</td>\n",
       "    </tr>\n",
       "    <tr>\n",
       "      <th>2009-12-03</th>\n",
       "      <td>47485</td>\n",
       "      <td>66327.53</td>\n",
       "    </tr>\n",
       "    <tr>\n",
       "      <th>2009-12-04</th>\n",
       "      <td>18607</td>\n",
       "      <td>31448.44</td>\n",
       "    </tr>\n",
       "    <tr>\n",
       "      <th>2009-12-05</th>\n",
       "      <td>4722</td>\n",
       "      <td>9042.36</td>\n",
       "    </tr>\n",
       "  </tbody>\n",
       "</table>\n",
       "</div>"
      ],
      "text/plain": [
       "              quantity   revenue\n",
       "invoice_date                    \n",
       "2009-12-01       21050  37366.32\n",
       "2009-12-02       25248  45644.67\n",
       "2009-12-03       47485  66327.53\n",
       "2009-12-04       18607  31448.44\n",
       "2009-12-05        4722   9042.36"
      ]
     },
     "execution_count": 22,
     "metadata": {},
     "output_type": "execute_result"
    }
   ],
   "source": [
    "# File path:\n",
    "file = \"../Datasets/online_retail_II.xlsx\"\n",
    "\n",
    "# The data is provided as two sheets in a single Excel file.\n",
    "# Each sheet contains a different time period.\n",
    "# Load both and join them into a single dataframe\n",
    "# as shown below:\n",
    "\n",
    "df_1 = pd.read_excel(file, sheet_name=\"Year 2009-2010\")\n",
    "df_2 = pd.read_excel(file, sheet_name=\"Year 2010-2011\")\n",
    "\n",
    "df = pd.concat([df_1, df_2])\n",
    "\n",
    "# Rename columns\n",
    "df.columns = [\n",
    "    \"invoice\",\n",
    "    \"stock_code\",\n",
    "    \"description\",\n",
    "    \"quantity\",\n",
    "    \"invoice_date\",\n",
    "    \"price\",\n",
    "    \"customer_id\",\n",
    "    \"country\",\n",
    "]\n",
    "\n",
    "# just UK\n",
    "df = df[df[\"country\"] == \"United Kingdom\"]\n",
    "\n",
    "# add revenue variable\n",
    "df[\"revenue\"] = df[\"quantity\"] * df[\"price\"]\n",
    "\n",
    "# remove cancelled orders and missing customer ids\n",
    "df[\"is_cancelled\"] = df[\"invoice\"].apply(lambda x: str(x)[0] == \"C\")\n",
    "mask = (~df[\"customer_id\"].isnull()) & (~df[\"is_cancelled\"])\n",
    "\n",
    "# resample for total daily revenue\n",
    "df = (\n",
    "    df.loc[mask, [\"invoice_date\", \"quantity\", \"revenue\"]]\n",
    "    .resample(\"D\", on=\"invoice_date\")\n",
    "    .sum()\n",
    ")\n",
    "\n",
    "df.head()"
   ]
  },
  {
   "cell_type": "code",
   "execution_count": 23,
   "metadata": {},
   "outputs": [
    {
     "data": {
      "text/plain": [
       "[datetime.date(2010, 11, 26), datetime.date(2011, 11, 25)]"
      ]
     },
     "execution_count": 23,
     "metadata": {},
     "output_type": "execute_result"
    }
   ],
   "source": [
    "#############     Highlight specific variables manually    ##################  \n",
    "\n",
    "import datetime \n",
    "# Black Friday dates in 2010 and 2011\n",
    "\n",
    "black_friday = [datetime.date(2010, 11, 26), datetime.date(2011, 11, 25)]\n",
    "\n",
    "black_friday"
   ]
  },
  {
   "cell_type": "code",
   "execution_count": 24,
   "metadata": {},
   "outputs": [
    {
     "data": {
      "text/html": [
       "<div>\n",
       "<style scoped>\n",
       "    .dataframe tbody tr th:only-of-type {\n",
       "        vertical-align: middle;\n",
       "    }\n",
       "\n",
       "    .dataframe tbody tr th {\n",
       "        vertical-align: top;\n",
       "    }\n",
       "\n",
       "    .dataframe thead th {\n",
       "        text-align: right;\n",
       "    }\n",
       "</style>\n",
       "<table border=\"1\" class=\"dataframe\">\n",
       "  <thead>\n",
       "    <tr style=\"text-align: right;\">\n",
       "      <th></th>\n",
       "      <th>quantity</th>\n",
       "      <th>revenue</th>\n",
       "      <th>holidays</th>\n",
       "    </tr>\n",
       "    <tr>\n",
       "      <th>invoice_date</th>\n",
       "      <th></th>\n",
       "      <th></th>\n",
       "      <th></th>\n",
       "    </tr>\n",
       "  </thead>\n",
       "  <tbody>\n",
       "    <tr>\n",
       "      <th>2010-11-26</th>\n",
       "      <td>11107</td>\n",
       "      <td>20950.99</td>\n",
       "      <td>1</td>\n",
       "    </tr>\n",
       "    <tr>\n",
       "      <th>2011-11-25</th>\n",
       "      <td>25197</td>\n",
       "      <td>22978.56</td>\n",
       "      <td>1</td>\n",
       "    </tr>\n",
       "  </tbody>\n",
       "</table>\n",
       "</div>"
      ],
      "text/plain": [
       "              quantity   revenue  holidays\n",
       "invoice_date                              \n",
       "2010-11-26       11107  20950.99         1\n",
       "2011-11-25       25197  22978.56         1"
      ]
     },
     "execution_count": 24,
     "metadata": {},
     "output_type": "execute_result"
    }
   ],
   "source": [
    "# flag Black Fridays\n",
    "\n",
    "df[\"holidays\"] = np.where(df.index.isin(black_friday),1,0)\n",
    "\n",
    "df[df[\"holidays\"]==1]"
   ]
  },
  {
   "cell_type": "code",
   "execution_count": 26,
   "metadata": {},
   "outputs": [
    {
     "name": "stdout",
     "output_type": "stream",
     "text": [
      "Collecting holidays\n",
      "  Obtaining dependency information for holidays from https://files.pythonhosted.org/packages/32/9f/605a37e5eaff172742068ae660397fcccaa7e1673a5186d1a0ae6f6e990e/holidays-0.48-py3-none-any.whl.metadata\n",
      "  Downloading holidays-0.48-py3-none-any.whl.metadata (23 kB)\n",
      "Requirement already satisfied: python-dateutil in c:\\users\\tharindu\\anaconda3\\lib\\site-packages (from holidays) (2.8.2)\n",
      "Requirement already satisfied: six>=1.5 in c:\\users\\tharindu\\anaconda3\\lib\\site-packages (from python-dateutil->holidays) (1.16.0)\n",
      "Downloading holidays-0.48-py3-none-any.whl (1.0 MB)\n",
      "   ---------------------------------------- 0.0/1.0 MB ? eta -:--:--\n",
      "   - -------------------------------------- 0.0/1.0 MB 653.6 kB/s eta 0:00:02\n",
      "   -- ------------------------------------- 0.1/1.0 MB 787.7 kB/s eta 0:00:02\n",
      "   ---- ----------------------------------- 0.1/1.0 MB 845.5 kB/s eta 0:00:02\n",
      "   ------ --------------------------------- 0.2/1.0 MB 893.0 kB/s eta 0:00:01\n",
      "   -------- ------------------------------- 0.2/1.0 MB 1.1 MB/s eta 0:00:01\n",
      "   ----------- ---------------------------- 0.3/1.0 MB 1.0 MB/s eta 0:00:01\n",
      "   -------------- ------------------------- 0.4/1.0 MB 1.1 MB/s eta 0:00:01\n",
      "   ----------------- ---------------------- 0.4/1.0 MB 1.2 MB/s eta 0:00:01\n",
      "   -------------------- ------------------- 0.5/1.0 MB 1.3 MB/s eta 0:00:01\n",
      "   ------------------------ --------------- 0.6/1.0 MB 1.4 MB/s eta 0:00:01\n",
      "   ---------------------------- ----------- 0.7/1.0 MB 1.4 MB/s eta 0:00:01\n",
      "   ------------------------------- -------- 0.8/1.0 MB 1.5 MB/s eta 0:00:01\n",
      "   ----------------------------------- ---- 0.9/1.0 MB 1.5 MB/s eta 0:00:01\n",
      "   ------------------------------------- -- 1.0/1.0 MB 1.5 MB/s eta 0:00:01\n",
      "   -------------------------------------- - 1.0/1.0 MB 1.4 MB/s eta 0:00:01\n",
      "   ---------------------------------------- 1.0/1.0 MB 1.4 MB/s eta 0:00:00\n",
      "Installing collected packages: holidays\n",
      "Successfully installed holidays-0.48\n",
      "Note: you may need to restart the kernel to use updated packages.\n"
     ]
    }
   ],
   "source": [
    "pip install holidays"
   ]
  },
  {
   "cell_type": "code",
   "execution_count": 27,
   "metadata": {},
   "outputs": [
    {
     "data": {
      "text/plain": [
       "holidays.country_holidays('GB')"
      ]
     },
     "execution_count": 27,
     "metadata": {},
     "output_type": "execute_result"
    }
   ],
   "source": [
    "import holidays\n",
    "uk_holidays = holidays.UK()\n",
    "\n",
    "uk_holidays"
   ]
  },
  {
   "cell_type": "code",
   "execution_count": 28,
   "metadata": {},
   "outputs": [
    {
     "name": "stdout",
     "output_type": "stream",
     "text": [
      "2010-01-01 New Year's Day\n",
      "2010-04-02 Good Friday\n",
      "2010-05-03 May Day\n",
      "2010-05-31 Spring Bank Holiday\n",
      "2010-12-25 Christmas Day\n",
      "2010-12-26 Boxing Day\n",
      "2010-12-27 Christmas Day (observed)\n",
      "2010-12-28 Boxing Day (observed)\n",
      "2011-01-01 New Year's Day\n",
      "2011-01-03 New Year's Day (observed)\n",
      "2011-04-22 Good Friday\n",
      "2011-04-29 Wedding of William and Catherine\n",
      "2011-05-02 May Day\n",
      "2011-05-30 Spring Bank Holiday\n",
      "2011-12-25 Christmas Day\n",
      "2011-12-26 Boxing Day\n",
      "2011-12-27 Christmas Day (observed)\n"
     ]
    }
   ],
   "source": [
    "# let's check the holidays available for the UK\n",
    "\n",
    "for date, name in sorted(holidays.UK(subdiv='UK', years=[2010,2011]).items()):\n",
    "    print(date, name)"
   ]
  },
  {
   "cell_type": "code",
   "execution_count": 29,
   "metadata": {},
   "outputs": [
    {
     "data": {
      "text/plain": [
       "[datetime.date(2010, 4, 2),\n",
       " datetime.date(2010, 5, 3),\n",
       " datetime.date(2010, 5, 31),\n",
       " datetime.date(2010, 1, 1),\n",
       " datetime.date(2010, 12, 25),\n",
       " datetime.date(2010, 12, 27),\n",
       " datetime.date(2010, 12, 26),\n",
       " datetime.date(2010, 12, 28),\n",
       " datetime.date(2011, 4, 22),\n",
       " datetime.date(2011, 5, 2),\n",
       " datetime.date(2011, 5, 30),\n",
       " datetime.date(2011, 4, 29),\n",
       " datetime.date(2011, 1, 1),\n",
       " datetime.date(2011, 1, 3),\n",
       " datetime.date(2011, 12, 25),\n",
       " datetime.date(2011, 12, 27),\n",
       " datetime.date(2011, 12, 26)]"
      ]
     },
     "execution_count": 29,
     "metadata": {},
     "output_type": "execute_result"
    }
   ],
   "source": [
    "# let's capture the dates in a list:\n",
    "\n",
    "uk_holidays = [items[0] for items in holidays.UK(subdiv='UK', years=[2010,2011]).items()]\n",
    "\n",
    "uk_holidays"
   ]
  },
  {
   "cell_type": "code",
   "execution_count": 30,
   "metadata": {},
   "outputs": [
    {
     "data": {
      "text/html": [
       "<div>\n",
       "<style scoped>\n",
       "    .dataframe tbody tr th:only-of-type {\n",
       "        vertical-align: middle;\n",
       "    }\n",
       "\n",
       "    .dataframe tbody tr th {\n",
       "        vertical-align: top;\n",
       "    }\n",
       "\n",
       "    .dataframe thead th {\n",
       "        text-align: right;\n",
       "    }\n",
       "</style>\n",
       "<table border=\"1\" class=\"dataframe\">\n",
       "  <thead>\n",
       "    <tr style=\"text-align: right;\">\n",
       "      <th></th>\n",
       "      <th>quantity</th>\n",
       "      <th>revenue</th>\n",
       "      <th>holidays</th>\n",
       "    </tr>\n",
       "    <tr>\n",
       "      <th>invoice_date</th>\n",
       "      <th></th>\n",
       "      <th></th>\n",
       "      <th></th>\n",
       "    </tr>\n",
       "  </thead>\n",
       "  <tbody>\n",
       "    <tr>\n",
       "      <th>2010-01-01</th>\n",
       "      <td>0</td>\n",
       "      <td>0.0</td>\n",
       "      <td>1</td>\n",
       "    </tr>\n",
       "    <tr>\n",
       "      <th>2010-04-02</th>\n",
       "      <td>0</td>\n",
       "      <td>0.0</td>\n",
       "      <td>1</td>\n",
       "    </tr>\n",
       "    <tr>\n",
       "      <th>2010-05-03</th>\n",
       "      <td>0</td>\n",
       "      <td>0.0</td>\n",
       "      <td>1</td>\n",
       "    </tr>\n",
       "    <tr>\n",
       "      <th>2010-05-31</th>\n",
       "      <td>0</td>\n",
       "      <td>0.0</td>\n",
       "      <td>1</td>\n",
       "    </tr>\n",
       "    <tr>\n",
       "      <th>2010-12-25</th>\n",
       "      <td>0</td>\n",
       "      <td>0.0</td>\n",
       "      <td>1</td>\n",
       "    </tr>\n",
       "    <tr>\n",
       "      <th>2010-12-26</th>\n",
       "      <td>0</td>\n",
       "      <td>0.0</td>\n",
       "      <td>1</td>\n",
       "    </tr>\n",
       "    <tr>\n",
       "      <th>2010-12-27</th>\n",
       "      <td>0</td>\n",
       "      <td>0.0</td>\n",
       "      <td>1</td>\n",
       "    </tr>\n",
       "    <tr>\n",
       "      <th>2010-12-28</th>\n",
       "      <td>0</td>\n",
       "      <td>0.0</td>\n",
       "      <td>1</td>\n",
       "    </tr>\n",
       "    <tr>\n",
       "      <th>2011-01-01</th>\n",
       "      <td>0</td>\n",
       "      <td>0.0</td>\n",
       "      <td>1</td>\n",
       "    </tr>\n",
       "    <tr>\n",
       "      <th>2011-01-03</th>\n",
       "      <td>0</td>\n",
       "      <td>0.0</td>\n",
       "      <td>1</td>\n",
       "    </tr>\n",
       "    <tr>\n",
       "      <th>2011-04-22</th>\n",
       "      <td>0</td>\n",
       "      <td>0.0</td>\n",
       "      <td>1</td>\n",
       "    </tr>\n",
       "    <tr>\n",
       "      <th>2011-04-29</th>\n",
       "      <td>0</td>\n",
       "      <td>0.0</td>\n",
       "      <td>1</td>\n",
       "    </tr>\n",
       "    <tr>\n",
       "      <th>2011-05-02</th>\n",
       "      <td>0</td>\n",
       "      <td>0.0</td>\n",
       "      <td>1</td>\n",
       "    </tr>\n",
       "    <tr>\n",
       "      <th>2011-05-30</th>\n",
       "      <td>0</td>\n",
       "      <td>0.0</td>\n",
       "      <td>1</td>\n",
       "    </tr>\n",
       "  </tbody>\n",
       "</table>\n",
       "</div>"
      ],
      "text/plain": [
       "              quantity  revenue  holidays\n",
       "invoice_date                             \n",
       "2010-01-01           0      0.0         1\n",
       "2010-04-02           0      0.0         1\n",
       "2010-05-03           0      0.0         1\n",
       "2010-05-31           0      0.0         1\n",
       "2010-12-25           0      0.0         1\n",
       "2010-12-26           0      0.0         1\n",
       "2010-12-27           0      0.0         1\n",
       "2010-12-28           0      0.0         1\n",
       "2011-01-01           0      0.0         1\n",
       "2011-01-03           0      0.0         1\n",
       "2011-04-22           0      0.0         1\n",
       "2011-04-29           0      0.0         1\n",
       "2011-05-02           0      0.0         1\n",
       "2011-05-30           0      0.0         1"
      ]
     },
     "execution_count": 30,
     "metadata": {},
     "output_type": "execute_result"
    }
   ],
   "source": [
    "df[\"holidays\"] = np.where(df.index.isin(uk_holidays),1,0)\n",
    "\n",
    "df[df[\"holidays\"]==1]"
   ]
  },
  {
   "cell_type": "markdown",
   "metadata": {},
   "source": [
    "<img src=\"../images/Screenshot 2024-05-12 152353.jpg\"> "
   ]
  },
  {
   "cell_type": "code",
   "execution_count": 31,
   "metadata": {},
   "outputs": [],
   "source": [
    "from pandas.tseries.holiday import (\n",
    "    Holiday,\n",
    "    AbstractHolidayCalendar, # provides all the necessary methods to return a list of holidays\n",
    "    nearest_workday, # rule\n",
    "    GoodFriday,\n",
    "    EasterMonday,\n",
    "    MO, # rule\n",
    "    FR, # rule\n",
    ")"
   ]
  },
  {
   "cell_type": "code",
   "execution_count": 32,
   "metadata": {},
   "outputs": [],
   "source": [
    "# let's create our calendar\n",
    "\n",
    "class UKHolidays(AbstractHolidayCalendar):\n",
    "    rules = [\n",
    "        GoodFriday,\n",
    "        \n",
    "        EasterMonday,\n",
    "        \n",
    "        Holiday(\"New Year's Day\", month=1, day=1),\n",
    "        \n",
    "        Holiday(\"May Day\", month=5, day=1, offset=pd.DateOffset(\n",
    "            weekday=MO(1))),  # first monday\n",
    "        \n",
    "        Holiday(\"Spring Bank Holiday\", month=5, day=31,\n",
    "                offset=pd.DateOffset(weekday=MO(-1))),  # last monday\n",
    "        \n",
    "        Holiday(\"Black Fridays\", month=11, day=25,\n",
    "                offset=pd.DateOffset(weekday=FR(-1))), # third friday\n",
    "        \n",
    "        Holiday(\"Company's birthday\", month=8,\n",
    "                day=29, observance=nearest_workday),\n",
    "        \n",
    "    ]"
   ]
  },
  {
   "cell_type": "code",
   "execution_count": 33,
   "metadata": {},
   "outputs": [
    {
     "data": {
      "text/plain": [
       "\"For more information about how MO, TU, WE, TH, FR, SA and SU work, check the library relativedelta.\\n\\nweekday:\\n\\nOne of the weekday instances (MO, TU, etc) available in the relativedelta module. These instances may receive a parameter N, specifying the Nth weekday, which could be positive or negative (like MO(+1) or MO(-2)). Not specifying it is the same as specifying +1. You can also use an integer, where 0=MO. This argument is always relative e.g. if the calculated date is already Monday, using MO(1) or MO(-1) won't change the day. To effectively make it absolute, use it in combination with the day argument (e.g. day=1, MO(1) for first Monday of the month).\""
      ]
     },
     "execution_count": 33,
     "metadata": {},
     "output_type": "execute_result"
    }
   ],
   "source": [
    "'''For more information about how MO, TU, WE, TH, FR, SA and SU work, check the library relativedelta.\n",
    "\n",
    "weekday:\n",
    "\n",
    "One of the weekday instances (MO, TU, etc) available in the relativedelta module. These instances may receive a parameter N, specifying the Nth weekday, which could be positive or negative (like MO(+1) or MO(-2)). Not specifying it is the same as specifying +1. You can also use an integer, where 0=MO. This argument is always relative e.g. if the calculated date is already Monday, using MO(1) or MO(-1) won't change the day. To effectively make it absolute, use it in combination with the day argument (e.g. day=1, MO(1) for first Monday of the month).'''"
   ]
  },
  {
   "cell_type": "code",
   "execution_count": 34,
   "metadata": {},
   "outputs": [],
   "source": [
    "# set up the calendar\n",
    "\n",
    "cal = UKHolidays()"
   ]
  },
  {
   "cell_type": "code",
   "execution_count": 35,
   "metadata": {},
   "outputs": [
    {
     "data": {
      "text/plain": [
       "[Holiday: Good Friday (month=1, day=1, offset=[<Easter>, <-2 * Days>]),\n",
       " Holiday: Easter Monday (month=1, day=1, offset=[<Easter>, <Day>]),\n",
       " Holiday: New Year's Day (month=1, day=1, ),\n",
       " Holiday: May Day (month=5, day=1, offset=<DateOffset: weekday=MO(+1)>),\n",
       " Holiday: Spring Bank Holiday (month=5, day=31, offset=<DateOffset: weekday=MO(-1)>),\n",
       " Holiday: Black Fridays (month=11, day=25, offset=<DateOffset: weekday=FR(-1)>),\n",
       " Holiday: Company's birthday (month=8, day=29, observance=<function nearest_workday at 0x000001B70EE3E0C0>)]"
      ]
     },
     "execution_count": 35,
     "metadata": {},
     "output_type": "execute_result"
    }
   ],
   "source": [
    "cal.rules"
   ]
  },
  {
   "cell_type": "code",
   "execution_count": 36,
   "metadata": {},
   "outputs": [
    {
     "data": {
      "text/plain": [
       "DatetimeIndex(['2010-11-19', '2011-01-01', '2011-04-22', '2011-04-25',\n",
       "               '2011-05-02', '2011-05-30', '2011-08-29', '2011-11-25',\n",
       "               '2012-01-01'],\n",
       "              dtype='datetime64[ns]', freq=None)"
      ]
     },
     "execution_count": 36,
     "metadata": {},
     "output_type": "execute_result"
    }
   ],
   "source": [
    "# find the holiday dates in a certain period of time\n",
    "\n",
    "uk_holidays = cal.holidays(datetime.datetime(2010, 11, 1), datetime.datetime(2012, 3, 31))\n",
    "\n",
    "uk_holidays"
   ]
  },
  {
   "cell_type": "code",
   "execution_count": 37,
   "metadata": {},
   "outputs": [
    {
     "data": {
      "text/html": [
       "<div>\n",
       "<style scoped>\n",
       "    .dataframe tbody tr th:only-of-type {\n",
       "        vertical-align: middle;\n",
       "    }\n",
       "\n",
       "    .dataframe tbody tr th {\n",
       "        vertical-align: top;\n",
       "    }\n",
       "\n",
       "    .dataframe thead th {\n",
       "        text-align: right;\n",
       "    }\n",
       "</style>\n",
       "<table border=\"1\" class=\"dataframe\">\n",
       "  <thead>\n",
       "    <tr style=\"text-align: right;\">\n",
       "      <th></th>\n",
       "      <th>quantity</th>\n",
       "      <th>revenue</th>\n",
       "      <th>holidays</th>\n",
       "    </tr>\n",
       "    <tr>\n",
       "      <th>invoice_date</th>\n",
       "      <th></th>\n",
       "      <th></th>\n",
       "      <th></th>\n",
       "    </tr>\n",
       "  </thead>\n",
       "  <tbody>\n",
       "    <tr>\n",
       "      <th>2010-11-19</th>\n",
       "      <td>18837</td>\n",
       "      <td>30229.20</td>\n",
       "      <td>1</td>\n",
       "    </tr>\n",
       "    <tr>\n",
       "      <th>2011-01-01</th>\n",
       "      <td>0</td>\n",
       "      <td>0.00</td>\n",
       "      <td>1</td>\n",
       "    </tr>\n",
       "    <tr>\n",
       "      <th>2011-04-22</th>\n",
       "      <td>0</td>\n",
       "      <td>0.00</td>\n",
       "      <td>1</td>\n",
       "    </tr>\n",
       "    <tr>\n",
       "      <th>2011-04-25</th>\n",
       "      <td>0</td>\n",
       "      <td>0.00</td>\n",
       "      <td>1</td>\n",
       "    </tr>\n",
       "    <tr>\n",
       "      <th>2011-05-02</th>\n",
       "      <td>0</td>\n",
       "      <td>0.00</td>\n",
       "      <td>1</td>\n",
       "    </tr>\n",
       "    <tr>\n",
       "      <th>2011-05-30</th>\n",
       "      <td>0</td>\n",
       "      <td>0.00</td>\n",
       "      <td>1</td>\n",
       "    </tr>\n",
       "    <tr>\n",
       "      <th>2011-08-29</th>\n",
       "      <td>0</td>\n",
       "      <td>0.00</td>\n",
       "      <td>1</td>\n",
       "    </tr>\n",
       "    <tr>\n",
       "      <th>2011-11-25</th>\n",
       "      <td>25197</td>\n",
       "      <td>22978.56</td>\n",
       "      <td>1</td>\n",
       "    </tr>\n",
       "  </tbody>\n",
       "</table>\n",
       "</div>"
      ],
      "text/plain": [
       "              quantity   revenue  holidays\n",
       "invoice_date                              \n",
       "2010-11-19       18837  30229.20         1\n",
       "2011-01-01           0      0.00         1\n",
       "2011-04-22           0      0.00         1\n",
       "2011-04-25           0      0.00         1\n",
       "2011-05-02           0      0.00         1\n",
       "2011-05-30           0      0.00         1\n",
       "2011-08-29           0      0.00         1\n",
       "2011-11-25       25197  22978.56         1"
      ]
     },
     "execution_count": 37,
     "metadata": {},
     "output_type": "execute_result"
    }
   ],
   "source": [
    "# flag holidays\n",
    "\n",
    "df[\"holidays\"] = np.where(df.index.isin(uk_holidays),1,0)\n",
    "\n",
    "df[df[\"holidays\"]==1]"
   ]
  },
  {
   "cell_type": "code",
   "execution_count": null,
   "metadata": {},
   "outputs": [],
   "source": []
  },
  {
   "cell_type": "code",
   "execution_count": null,
   "metadata": {},
   "outputs": [],
   "source": []
  },
  {
   "cell_type": "code",
   "execution_count": null,
   "metadata": {},
   "outputs": [],
   "source": []
  }
 ],
 "metadata": {
  "kernelspec": {
   "display_name": "base",
   "language": "python",
   "name": "python3"
  },
  "language_info": {
   "codemirror_mode": {
    "name": "ipython",
    "version": 3
   },
   "file_extension": ".py",
   "mimetype": "text/x-python",
   "name": "python",
   "nbconvert_exporter": "python",
   "pygments_lexer": "ipython3",
   "version": "3.11.5"
  }
 },
 "nbformat": 4,
 "nbformat_minor": 2
}
